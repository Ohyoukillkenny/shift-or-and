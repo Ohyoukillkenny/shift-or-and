{
 "cells": [
  {
   "cell_type": "code",
   "execution_count": 20,
   "id": "77a89b52",
   "metadata": {},
   "outputs": [],
   "source": [
    "from typing import *\n",
    "\n",
    "NUM_CHARS: int = 256\n",
    "MAX_PATTERN_LEN: int = 64"
   ]
  },
  {
   "cell_type": "code",
   "execution_count": 23,
   "id": "52395c47",
   "metadata": {},
   "outputs": [
    {
     "name": "stdout",
     "output_type": "stream",
     "text": [
      "match is found at [0,5): hello\n",
      "match is found at [18,23): hello\n"
     ]
    }
   ],
   "source": [
    "def shift_and_preproc(pattern: str) -> Tuple[List[int], int]:\n",
    "    assert len(pattern) < MAX_PATTERN_LEN \n",
    "    c_masks: List[int] = [0 for i in range(NUM_CHARS)]\n",
    "    res_mask: int = 0\n",
    "    for i in range(len(pattern)):\n",
    "        ch: chr = pattern[i]\n",
    "        c_masks[ord(ch)] = c_masks[ord(ch)] | (1 << i)\n",
    "    # set the result mask\n",
    "    res_mask = 1 << (len(pattern) - 1)\n",
    "    return (c_masks, res_mask)\n",
    "\n",
    "\n",
    "def shift_and_match(text: str, pattern: str, c_masks: List[int], res_mask: int):\n",
    "    state: int = 0\n",
    "    for i in range(len(text)):\n",
    "        state = ((state << 1) | 1) & c_masks[ord(text[i])]\n",
    "        if (state & res_mask) != 0:\n",
    "            l = len(pattern)\n",
    "            ind = i - l + 1;\n",
    "            print(\"match is found at [\"+str(ind)+\",\" + str(ind + l) +\"): \" + text[ind: ind + l])\n",
    "            \n",
    "text = \"hello jack, hell, hello world!\"\n",
    "pattern = \"hello\"\n",
    "c_masks, res_mask = shift_and_preproc(pattern)\n",
    "shift_and_match(text, pattern, c_masks, res_mask)"
   ]
  },
  {
   "cell_type": "code",
   "execution_count": null,
   "id": "7a2bd133",
   "metadata": {},
   "outputs": [],
   "source": []
  }
 ],
 "metadata": {
  "kernelspec": {
   "display_name": "Python 3",
   "language": "python",
   "name": "python3"
  },
  "language_info": {
   "codemirror_mode": {
    "name": "ipython",
    "version": 3
   },
   "file_extension": ".py",
   "mimetype": "text/x-python",
   "name": "python",
   "nbconvert_exporter": "python",
   "pygments_lexer": "ipython3",
   "version": "3.8.8"
  }
 },
 "nbformat": 4,
 "nbformat_minor": 5
}
